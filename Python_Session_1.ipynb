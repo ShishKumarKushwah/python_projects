{
 "cells": [
  {
   "cell_type": "code",
   "execution_count": 1,
   "id": "f15d561e-7f0d-4f15-aa3f-d3aaa635cade",
   "metadata": {},
   "outputs": [
    {
     "name": "stdout",
     "output_type": "stream",
     "text": [
      "30\n"
     ]
    }
   ],
   "source": [
    "a = 10 \n",
    "b = 20 \n",
    "c = a+b \n",
    "print(c)"
   ]
  },
  {
   "cell_type": "markdown",
   "id": "7d95735d-65b3-4400-b1b9-b4339018afb3",
   "metadata": {},
   "source": [
    "session 1 "
   ]
  },
  {
   "cell_type": "markdown",
   "id": "7e05f53c-d078-4adf-bed2-b449c137f87d",
   "metadata": {},
   "source": [
    "session 2\n"
   ]
  },
  {
   "cell_type": "markdown",
   "id": "4f9c15cd-a444-4a2a-ad06-5970b9036aaf",
   "metadata": {},
   "source": [
    "# python"
   ]
  },
  {
   "cell_type": "markdown",
   "id": "af7bef8e-c75c-43a6-89ec-fcfc6aed466e",
   "metadata": {},
   "source": [
    "- python kernal white color dot indicate the : ideal state"
   ]
  },
  {
   "cell_type": "markdown",
   "id": "84086697-1616-4a96-94e2-ccf6e8d9d3a9",
   "metadata": {},
   "source": [
    "- python kernal black color indicates keral : busy state"
   ]
  },
  {
   "cell_type": "markdown",
   "id": "341e5c9a-6d1a-4e43-bc90-935ac4baf13a",
   "metadata": {},
   "source": [
    "- pyhton kernal red color indicates the kernal : dead state"
   ]
  },
  {
   "cell_type": "markdown",
   "id": "45bf62e5-9e39-4037-914d-57f6604ca395",
   "metadata": {},
   "source": [
    "- also in square bracket (*) mark apperas when kernal is busy\n",
    "- at that time dont run any other , it will no give any output "
   ]
  },
  {
   "cell_type": "code",
   "execution_count": null,
   "id": "fb31e595-da6f-4f6f-a94e-98b3d45a74e4",
   "metadata": {},
   "outputs": [],
   "source": []
  }
 ],
 "metadata": {
  "kernelspec": {
   "display_name": "Python 3 (ipykernel)",
   "language": "python",
   "name": "python3"
  },
  "language_info": {
   "codemirror_mode": {
    "name": "ipython",
    "version": 3
   },
   "file_extension": ".py",
   "mimetype": "text/x-python",
   "name": "python",
   "nbconvert_exporter": "python",
   "pygments_lexer": "ipython3",
   "version": "3.12.7"
  }
 },
 "nbformat": 4,
 "nbformat_minor": 5
}
